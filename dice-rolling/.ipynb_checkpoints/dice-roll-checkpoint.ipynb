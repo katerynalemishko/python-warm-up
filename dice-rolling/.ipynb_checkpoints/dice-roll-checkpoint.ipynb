{
 "cells": [
  {
   "cell_type": "markdown",
   "id": "gothic-texas",
   "metadata": {},
   "source": [
    "Imagine, we are playing a game in which we can move up or down the stairs according to the roll of the dice.\n",
    "\n",
    "Let's establish the following rules to play the game:\n",
    "\n",
    "1. The player starts the game at the step 0, rolls a single die and moves along the stairs according to the rolls of the die.\n",
    "   In total, the player should roll the die 100 times (make 100 moves)\n",
    "\n",
    "2. If the die roll is 3, 4 or 5,the player makes one step up the stairs.\n",
    "   If the die roll is 1 or 2, the player needs to make one step down (if he is currently at the step 0, he does not make any move).\n",
    "   If the die roll is 6, the player needs to roll the die again and make as many steps forward as the new roll of the die shows.\n",
    "\n",
    "Here, I will calculate the probability of finishing the game at different particular steps  (after 100 moves).\n",
    "To do it, I will simulate 10 000 games like this one in the form of random walks. I will collect the final steps of all the 10 000 games and calculate the percentages corresponding \n",
    "of some particular steps I am interested in (steps number 0,10, 20, 30, 40, 50, 60, 70, 80, 90 and 100).\n",
    "\n",
    "I will also calculate which step has the highest probability to be the final step to be reached during the game.\n"
   ]
  },
  {
   "cell_type": "code",
   "execution_count": 15,
   "id": "coral-frederick",
   "metadata": {},
   "outputs": [
    {
     "data": {
      "text/plain": [
       "Text(0, 0.5, 'frequency')"
      ]
     },
     "execution_count": 15,
     "metadata": {},
     "output_type": "execute_result"
    },
    {
     "data": {
      "image/png": "[encoded data removed]",
      "text/plain": [
       "<Figure size 432x288 with 1 Axes>"
      ]
     },
     "metadata": {
      "needs_background": "light"
     },
     "output_type": "display_data"
    }
   ],
   "source": [
    "# Import numpy as np\n",
    "import numpy as np\n",
    "\n",
    "#Import matplotlib.pyplot as plt\n",
    "import matplotlib.pyplot as plt\n",
    "\n",
    "#Magic command to display plots\n",
    "%matplotlib inline \n",
    "\n",
    "# Set the seed\n",
    "np.random.seed(123)\n",
    "\n",
    "# Roll the dice\n",
    "dice=np.random.randint(1,7)\n",
    "\n",
    "# Simulate random walk 10 000 times\n",
    "all_walks = []   #create a list for all the steps of all the 10000 simulated random walks\n",
    "for i in range(10000) :\n",
    "    random_walk = [0]   #initialize random walk\n",
    "    for x in range(100) :   #100 steps for each random walk\n",
    "        step = random_walk[-1]   #current step is set to the last step in the random_walk vector\n",
    "        dice = np.random.randint(1,7)   #rolling the die\n",
    "        if dice <= 2:   # if the die roll is 1 or 2 \n",
    "            step = max(0, step - 1)   # then in our random walk we need to make one step back; but we cannot go below 0 at any time\n",
    "        elif dice <= 5:   #if the die roll is 3,4 or 5 \n",
    "            step = step + 1   #then we need to make one step forward\n",
    "        else:   # if the die roll is 6 \n",
    "            step = step + np.random.randint(1,7)   # we roll the die again and make an amount of steps forward according to the amount of the eyes the die roll shows \n",
    "        random_walk.append(step)   #adding a new step to our random walk\n",
    "    all_walks.append(random_walk)   #adding each random walk to the vector all_walks\n",
    "\n",
    "# Create and plot np_aw_t\n",
    "np_aw_t = np.transpose(np.array(all_walks))   #converting all_walks to a np array and trasposing it\n",
    "\n",
    "#Selecting only the final steps of all random walks\n",
    "ends = np_aw_t[-1,:]   \n",
    "\n",
    "#Plotting a histogram\n",
    "plt.hist(ends,color='skyblue',edgecolor='black')   \n",
    "plt.xlabel('final step')\n",
    "plt.ylabel('frequency')"
   ]
  },
  {
   "cell_type": "markdown",
   "id": "gorgeous-hawaiian",
   "metadata": {},
   "source": [
    "This histogram represents the distribution of all final steps from 10 000 random walks that we simulated.\n",
    "The range of the final steps that we obtained in the simulations lies between 0 and 140.\n",
    "This range is devided into 10 bins of a size of 14 steps.\n",
    "\n",
    "As we can see from the histogram, the probability to finish our random walk within the range of the 6th bin,which includes the steps from 70 to 84, is the highest \n",
    "\n",
    "Now, we will compute the probabilities of finishing precisely at the steps 0,10,20,30,40,50,60,70,80,90 and 100 of the stairs."
   ]
  },
  {
   "cell_type": "code",
   "execution_count": 4,
   "id": "convenient-macintosh",
   "metadata": {},
   "outputs": [
    {
     "name": "stdout",
     "output_type": "stream",
     "text": [
      "The probability of finishing the game at the step number 0 is 0.0%\n",
      "The probability of finishing the game at the step number 10 is 0.0%\n",
      "The probability of finishing the game at the step number 20 is 0.01%\n",
      "The probability of finishing the game at the step number 30 is 0.0%\n",
      "The probability of finishing the game at the step number 40 is 0.23%\n",
      "The probability of finishing the game at the step number 50 is 0.56%\n",
      "The probability of finishing the game at the step number 60 is 1.61%\n",
      "The probability of finishing the game at the step number 70 is 2.43%\n",
      "The probability of finishing the game at the step number 80 is 2.22%\n",
      "The probability of finishing the game at the step number 90 is 1.43%\n",
      "The probability of finishing the game at the step number 100 is 0.78%\n"
     ]
    }
   ],
   "source": [
    "for i in range(0,101,10):\n",
    "    print('The probability of finishing the game at the step number '+str(i)+' is '+str(sum(x==i for x in ends)/100)+'%',end='\\n')"
   ]
  },
  {
   "cell_type": "markdown",
   "id": "celtic-quarter",
   "metadata": {},
   "source": [
    "As we can see from the histogram above, the step with the highest probability to be the final one in our game lies between the steps number 70 and 84.\n",
    "Let's find which at which particular step of the stairs a player most probably will finish our game. "
   ]
  },
  {
   "cell_type": "code",
   "execution_count": 14,
   "id": "deadly-determination",
   "metadata": {},
   "outputs": [
    {
     "name": "stdout",
     "output_type": "stream",
     "text": [
      "You will most probably finish the game at the step number 84. The probability of finishing at this step is 2.68 %\n"
     ]
    }
   ],
   "source": [
    "a=[]\n",
    "step_number=[]\n",
    "for i in range(71,85,1):\n",
    "   a.append(sum(x==i for x in ends)/10000)\n",
    "   step_number.append(i)\n",
    "\n",
    "print('You will most probably finish the game at the step number '+ str(max(step_number))+\n",
    "      '. The probability of finishing at this step is '+str(max(a)*100)+' %')\n"
   ]
  },
  {
   "cell_type": "code",
   "execution_count": null,
   "id": "arbitrary-prize",
   "metadata": {},
   "outputs": [],
   "source": []
  }
 ],
 "metadata": {
  "kernelspec": {
   "display_name": "Python 3",
   "language": "python",
   "name": "python3"
  },
  "language_info": {
   "codemirror_mode": {
    "name": "ipython",
    "version": 3
   },
   "file_extension": ".py",
   "mimetype": "text/x-python",
   "name": "python",
   "nbconvert_exporter": "python",
   "pygments_lexer": "ipython3",
   "version": "3.9.2"
  }
 },
 "nbformat": 4,
 "nbformat_minor": 5
}
